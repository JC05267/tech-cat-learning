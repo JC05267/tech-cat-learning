{
 "cells": [
  {
   "cell_type": "markdown",
   "metadata": {},
   "source": [
    "# Spring Cleaning!"
   ]
  },
  {
   "cell_type": "markdown",
   "metadata": {},
   "source": [
    "Harold's stock data is a mess! Help him clean up his data before the auditors arrive!"
   ]
  },
  {
   "cell_type": "code",
   "execution_count": 2,
   "metadata": {},
   "outputs": [],
   "source": [
    "# Import Libraries\n",
    "import pandas as pd\n",
    "from pathlib import Path"
   ]
  },
  {
   "cell_type": "code",
   "execution_count": 5,
   "metadata": {},
   "outputs": [
    {
     "name": "stdout",
     "output_type": "stream",
     "text": [
      "/home/jcocozza/dev_python/learning/in_class/05-Stu_Data_Cleaning/Unsolved/Core\n"
     ]
    }
   ],
   "source": [
    "! pwd"
   ]
  },
  {
   "cell_type": "code",
   "execution_count": 7,
   "metadata": {},
   "outputs": [],
   "source": [
    "df = pd.read_csv('../../Resources/stock_data.csv')"
   ]
  },
  {
   "cell_type": "markdown",
   "metadata": {},
   "source": [
    "### Load CSV data into Pandas using `read_csv`"
   ]
  },
  {
   "cell_type": "markdown",
   "metadata": {},
   "source": [
    "### Identify the number of rows and columns (shape) in the DataFrame."
   ]
  },
  {
   "cell_type": "code",
   "execution_count": 9,
   "metadata": {},
   "outputs": [
    {
     "data": {
      "text/plain": [
       "(504, 14)"
      ]
     },
     "execution_count": 9,
     "metadata": {},
     "output_type": "execute_result"
    }
   ],
   "source": [
    "df.shape"
   ]
  },
  {
   "cell_type": "markdown",
   "metadata": {},
   "source": [
    "### Generate a sample of the data to visually ensure data has been loaded in correctly."
   ]
  },
  {
   "cell_type": "code",
   "execution_count": 10,
   "metadata": {},
   "outputs": [
    {
     "data": {
      "text/html": [
       "<div>\n",
       "<style scoped>\n",
       "    .dataframe tbody tr th:only-of-type {\n",
       "        vertical-align: middle;\n",
       "    }\n",
       "\n",
       "    .dataframe tbody tr th {\n",
       "        vertical-align: top;\n",
       "    }\n",
       "\n",
       "    .dataframe thead th {\n",
       "        text-align: right;\n",
       "    }\n",
       "</style>\n",
       "<table border=\"1\" class=\"dataframe\">\n",
       "  <thead>\n",
       "    <tr style=\"text-align: right;\">\n",
       "      <th></th>\n",
       "      <th>symbol</th>\n",
       "      <th>name</th>\n",
       "      <th>sector</th>\n",
       "      <th>price</th>\n",
       "      <th>price_per_earnings</th>\n",
       "      <th>dividend_yield</th>\n",
       "      <th>earnings_per_share</th>\n",
       "      <th>52_week_low</th>\n",
       "      <th>52_week_high</th>\n",
       "      <th>market_cap</th>\n",
       "      <th>ebitda</th>\n",
       "      <th>price_per_sales</th>\n",
       "      <th>price_per_book</th>\n",
       "      <th>sec_filings</th>\n",
       "    </tr>\n",
       "  </thead>\n",
       "  <tbody>\n",
       "    <tr>\n",
       "      <th>146</th>\n",
       "      <td>DISCA</td>\n",
       "      <td>Discovery Communications-A</td>\n",
       "      <td>Consumer Discretionary</td>\n",
       "      <td>22.87</td>\n",
       "      <td>11.00</td>\n",
       "      <td>0.000000</td>\n",
       "      <td>1.96</td>\n",
       "      <td>30.2500</td>\n",
       "      <td>15.99</td>\n",
       "      <td>8.763757e+09</td>\n",
       "      <td>2.100000e+09</td>\n",
       "      <td>1.804088</td>\n",
       "      <td>1.50</td>\n",
       "      <td>http://www.sec.gov/cgi-bin/browse-edgar?action...</td>\n",
       "    </tr>\n",
       "    <tr>\n",
       "      <th>324</th>\n",
       "      <td>NTAP</td>\n",
       "      <td>NetApp</td>\n",
       "      <td>Information Technology</td>\n",
       "      <td>55.85</td>\n",
       "      <td>26.10</td>\n",
       "      <td>1.388166</td>\n",
       "      <td>1.81</td>\n",
       "      <td>64.0599</td>\n",
       "      <td>37.43</td>\n",
       "      <td>1.537521e+10</td>\n",
       "      <td>1.075000e+09</td>\n",
       "      <td>3.668703</td>\n",
       "      <td>5.46</td>\n",
       "      <td>http://www.sec.gov/cgi-bin/browse-edgar?action...</td>\n",
       "    </tr>\n",
       "    <tr>\n",
       "      <th>58</th>\n",
       "      <td>ADSK</td>\n",
       "      <td>Autodesk Inc</td>\n",
       "      <td>Information Technology</td>\n",
       "      <td>104.81</td>\n",
       "      <td>-77.07</td>\n",
       "      <td>0.000000</td>\n",
       "      <td>-2.61</td>\n",
       "      <td>131.1000</td>\n",
       "      <td>81.75</td>\n",
       "      <td>2.434829e+10</td>\n",
       "      <td>-3.781000e+08</td>\n",
       "      <td>16.506820</td>\n",
       "      <td>224.13</td>\n",
       "      <td>http://www.sec.gov/cgi-bin/browse-edgar?action...</td>\n",
       "    </tr>\n",
       "    <tr>\n",
       "      <th>406</th>\n",
       "      <td>SNI</td>\n",
       "      <td>Scripps Networks Interactive Inc.</td>\n",
       "      <td>Consumer Discretionary</td>\n",
       "      <td>86.46</td>\n",
       "      <td>16.04</td>\n",
       "      <td>1.376147</td>\n",
       "      <td>5.18</td>\n",
       "      <td>88.8700</td>\n",
       "      <td>64.87</td>\n",
       "      <td>1.132864e+10</td>\n",
       "      <td>1.351059e+09</td>\n",
       "      <td>4.374079</td>\n",
       "      <td>4.22</td>\n",
       "      <td>http://www.sec.gov/cgi-bin/browse-edgar?action...</td>\n",
       "    </tr>\n",
       "    <tr>\n",
       "      <th>220</th>\n",
       "      <td>HOG</td>\n",
       "      <td>Harley-Davidson</td>\n",
       "      <td>Consumer Discretionary</td>\n",
       "      <td>47.54</td>\n",
       "      <td>13.70</td>\n",
       "      <td>3.021865</td>\n",
       "      <td>2.98</td>\n",
       "      <td>63.4000</td>\n",
       "      <td>44.52</td>\n",
       "      <td>8.158950e+09</td>\n",
       "      <td>1.058817e+09</td>\n",
       "      <td>1.661950</td>\n",
       "      <td>4.31</td>\n",
       "      <td>http://www.sec.gov/cgi-bin/browse-edgar?action...</td>\n",
       "    </tr>\n",
       "  </tbody>\n",
       "</table>\n",
       "</div>"
      ],
      "text/plain": [
       "    symbol                               name                  sector   price  \\\n",
       "146  DISCA         Discovery Communications-A  Consumer Discretionary   22.87   \n",
       "324   NTAP                             NetApp  Information Technology   55.85   \n",
       "58    ADSK                       Autodesk Inc  Information Technology  104.81   \n",
       "406    SNI  Scripps Networks Interactive Inc.  Consumer Discretionary   86.46   \n",
       "220    HOG                    Harley-Davidson  Consumer Discretionary   47.54   \n",
       "\n",
       "     price_per_earnings  dividend_yield earnings_per_share  52_week_low  \\\n",
       "146               11.00        0.000000               1.96      30.2500   \n",
       "324               26.10        1.388166               1.81      64.0599   \n",
       "58               -77.07        0.000000              -2.61     131.1000   \n",
       "406               16.04        1.376147               5.18      88.8700   \n",
       "220               13.70        3.021865               2.98      63.4000   \n",
       "\n",
       "     52_week_high    market_cap        ebitda  price_per_sales  \\\n",
       "146         15.99  8.763757e+09  2.100000e+09         1.804088   \n",
       "324         37.43  1.537521e+10  1.075000e+09         3.668703   \n",
       "58          81.75  2.434829e+10 -3.781000e+08        16.506820   \n",
       "406         64.87  1.132864e+10  1.351059e+09         4.374079   \n",
       "220         44.52  8.158950e+09  1.058817e+09         1.661950   \n",
       "\n",
       "     price_per_book                                        sec_filings  \n",
       "146            1.50  http://www.sec.gov/cgi-bin/browse-edgar?action...  \n",
       "324            5.46  http://www.sec.gov/cgi-bin/browse-edgar?action...  \n",
       "58           224.13  http://www.sec.gov/cgi-bin/browse-edgar?action...  \n",
       "406            4.22  http://www.sec.gov/cgi-bin/browse-edgar?action...  \n",
       "220            4.31  http://www.sec.gov/cgi-bin/browse-edgar?action...  "
      ]
     },
     "execution_count": 10,
     "metadata": {},
     "output_type": "execute_result"
    }
   ],
   "source": [
    "df.sample(5)"
   ]
  },
  {
   "cell_type": "markdown",
   "metadata": {},
   "source": [
    "### Identify the number of records in the DataFrame, and compare it with the number of rows in the original file."
   ]
  },
  {
   "cell_type": "code",
   "execution_count": null,
   "metadata": {},
   "outputs": [],
   "source": [
    "They are the same. The shape give 504 rows. The csv has 504 records."
   ]
  },
  {
   "cell_type": "markdown",
   "metadata": {},
   "source": [
    "### Identify nulls records"
   ]
  },
  {
   "cell_type": "code",
   "execution_count": 12,
   "metadata": {},
   "outputs": [
    {
     "data": {
      "text/plain": [
       "0      False\n",
       "1       True\n",
       "2      False\n",
       "3      False\n",
       "4       True\n",
       "       ...  \n",
       "499    False\n",
       "500    False\n",
       "501    False\n",
       "502    False\n",
       "503    False\n",
       "Length: 504, dtype: bool"
      ]
     },
     "execution_count": 12,
     "metadata": {},
     "output_type": "execute_result"
    }
   ],
   "source": [
    "df.isna().any(axis=1)"
   ]
  },
  {
   "cell_type": "markdown",
   "metadata": {},
   "source": [
    "### Drop Null Records"
   ]
  },
  {
   "cell_type": "code",
   "execution_count": 13,
   "metadata": {},
   "outputs": [],
   "source": [
    "df = df.dropna(how='any')"
   ]
  },
  {
   "cell_type": "markdown",
   "metadata": {},
   "source": [
    "### Validate nulls have been dropped"
   ]
  },
  {
   "cell_type": "code",
   "execution_count": 14,
   "metadata": {},
   "outputs": [
    {
     "data": {
      "text/plain": [
       "(478, 14)"
      ]
     },
     "execution_count": 14,
     "metadata": {},
     "output_type": "execute_result"
    }
   ],
   "source": [
    "df.shape"
   ]
  },
  {
   "cell_type": "markdown",
   "metadata": {},
   "source": [
    "### Default null `ebitda` values to 0. Then, validate no records are null for ebitda."
   ]
  },
  {
   "cell_type": "code",
   "execution_count": 16,
   "metadata": {},
   "outputs": [],
   "source": [
    "df['ebita'] = df['ebitda'].fillna(0)"
   ]
  },
  {
   "cell_type": "markdown",
   "metadata": {},
   "source": [
    "### Drop Duplicates"
   ]
  },
  {
   "cell_type": "code",
   "execution_count": 18,
   "metadata": {},
   "outputs": [],
   "source": [
    "df = df.drop_duplicates()"
   ]
  },
  {
   "cell_type": "code",
   "execution_count": null,
   "metadata": {},
   "outputs": [],
   "source": []
  }
 ],
 "metadata": {
  "kernelspec": {
   "display_name": "Python 3 (ipykernel)",
   "language": "python",
   "name": "python3"
  },
  "language_info": {
   "codemirror_mode": {
    "name": "ipython",
    "version": 3
   },
   "file_extension": ".py",
   "mimetype": "text/x-python",
   "name": "python",
   "nbconvert_exporter": "python",
   "pygments_lexer": "ipython3",
   "version": "3.11.9"
  }
 },
 "nbformat": 4,
 "nbformat_minor": 4
}
