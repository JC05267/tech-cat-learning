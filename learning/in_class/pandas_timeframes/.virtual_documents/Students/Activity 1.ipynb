


import pandas as pd

# Sample data
data = {
    'order_id': [1, 2, 3, 4, 5],
    'order_date': ['2024-06-01', '2024-07-15', '2024-08-10', '2024-09-05', '2024-10-20']
}

# Creating DataFrame
df = pd.DataFrame(data)

# Display the DataFrame
print("Original DataFrame:")
print(df)

# Task: Convert 'order_date' to datetime and extract year, month, and day into separate columns
df['order_date'] = pd.to_datetime(df['order_date'])
df['year'] = df['order_date'].dt.year
df['month'] = df['order_date'].dt.month
df['day'] = df['order_date'].dt.day
df





import pandas as pd

# Sample data
data = {
    'event_id': [1, 2, 3, 4, 5],
    'start_date': ['2024-06-01', '2024-07-15', '2024-08-10', '2024-09-05', '2024-10-20'],
    'end_date': ['2024-06-10', '2024-07-20', '2024-08-15', '2024-09-10', '2024-10-25']
}

# Creating DataFrame
df = pd.DataFrame(data)

# Display the DataFrame
print("Original DataFrame:")
print(df)

# Task: Convert 'start_date' and 'end_date' to datetime and calculate the difference in days
df['start_date'] = pd.to_datetime(df['start_date'])
df['end_date'] = pd.to_datetime(df['end_date'])
df['diff'] = (df.start_date - df.end_date).dt.days
df





import pandas as pd

# Sample data
data = {
    'transaction_id': [101, 102, 103, 104, 105],
    'transaction_date': ['2024-06-01', '2024-06-15', '2024-07-01', '2024-07-15', '2024-08-01'],
    'amount': [100, 200, 150, 300, 250]
}

# Creating DataFrame
df = pd.DataFrame(data)

# Display the DataFrame
print("Original DataFrame:")
print(df)

# Task: Convert 'transaction_date' to datetime and filter transactions between '2024-06-01' and '2024-07-01'
df['transaction_date'] = pd.to_datetime(df['transaction_date'])
mask = (df['transaction_date'] > '2024-06-01') & (df['transaction_date'] < '2024-07-01')
df.loc[mask]                                         





import pandas as pd

# Sample data
data = {
    'transaction_id': [101, 102, 103, 104, 105, 106, 107],
    'transaction_date': ['2024-06-01', '2024-06-15', '2024-07-01', '2024-07-15', '2024-08-01', '2024-08-15', '2024-09-01'],
    'amount': [100, 200, 150, 300, 250, 350, 400]
}

# Creating DataFrame
df = pd.DataFrame(data)

# Display the DataFrame
print("Original DataFrame:")
print(df)

# Task: Convert 'transaction_date' to datetime, extract the month, and summarize the total amount for each month
df['transaction_date'] = pd.to_datetime(df['transaction_date'])
df['month'] = df.transaction_date.dt.month
df.groupby('month').amount.sum()





import pandas as pd

# Sample data
data = {
    'transaction_id': [101, 102, 103, 104, 105, 106, 107],
    'transaction_date': ['2024-06-01', '2024-06-15', '2024-07-01', '2024-07-15', '2024-08-01', '2024-08-15', '2024-09-01'],
    'amount': [100, 200, 150, 300, 250, 350, 400]
}

# Creating DataFrame
df = pd.DataFrame(data)

# Display the DataFrame
print("Original DataFrame:")
print(df)

# Task: Convert 'transaction_date' to datetime and calculate a 3-day rolling average of the 'amount' column
df['transaction_date'] = pd.to_datetime(df['transaction_date'])
df['rolling_avg'] = df.amount.rolling(window=3).mean() 
df





import pandas as pd

# Sample data
data = {
    'transaction_id': [101, 102, 103, 104, 105, 106, 107],
    'transaction_date': ['2024-06-01', '2024-06-15', '2024-07-01', '2024-07-15', '2024-08-01', '2024-08-15', '2024-09-01'],
    'amount': [100, 200, 150, 300, 250, 350, 400]
}

# Creating DataFrame
df = pd.DataFrame(data)

# Display the DataFrame
print("Original DataFrame:")
print(df)

# Task: Convert 'transaction_date' to datetime, set it as index, and resample data to aggregate the total amount by month
df['transaction_date'] = pd.to_datetime(df['transaction_date'])
df.set_index(['transaction_date'], inplace=True)
monthly = df.resample('M').sum()
monthly





import pandas as pd

# Sample data
data = {
    'transaction_id': [101, 102, 103, 104, 105, 106, 107],
    'transaction_date': ['2024-06-01', '2024-06-15', '2024-07-01', '2024-07-15', '2024-08-01', '2024-08-15', '2024-09-01'],
    'amount': [100, 200, 150, 300, 250, 350, 400]
}

# Creating DataFrame
df = pd.DataFrame(data)

# Display the DataFrame
print("Original DataFrame:")
print(df)

# Task: Convert 'transaction_date' to datetime, set it as index, and create a lagged feature for 'amount'
df['transaction_date'] = pd.to_datetime(df['transaction_date'])
df.set_index(['transaction_date'], inplace=True)
df['lagged'] = df['amount'].shift(1)
df





import pandas as pd

# Sample data with missing dates
data = {
    'transaction_id': [101, 102, 103, 104, 105],
    'transaction_date': ['2024-06-01', '2024-06-15', '2024-07-01', '2024-07-15', '2024-08-01'],
    'amount': [100, 200, 150, 300, 250]
}

# Creating DataFrame
df = pd.DataFrame(data)

# Display the DataFrame
print("Original DataFrame:")
print(df)

# Task: Convert 'transaction_date' to datetime, set it as index, reindex to fill missing dates, and impute missing values
df['transaction_date'] = pd.to_datetime(df['transaction_date'])
df.set_index(['transaction_date'], inplace=True)
dr = pd.date_range(start=df.index.min(), end=df.index.max(), freq='D')
df = df.reindex(dr)
df = df.amount.fillna(0)
df







import pandas as pd

# Sample data with time zones
data = {
    'transaction_id': [101, 102, 103, 104, 105],
    'transaction_date': ['2024-06-01 10:00:00', '2024-06-15 12:00:00', '2024-07-01 15:00:00', '2024-07-15 09:00:00', '2024-08-01 17:00:00']
}

# Creating DataFrame
df = pd.DataFrame(data)

# Display the DataFrame
print("Original DataFrame:")
print(df)

# Task: Convert 'transaction_date' to datetime, set to UTC, and convert to a specific time zone (e.g., US/Eastern)
df['transaction_date'] = pd.to_datetime(df['transaction_date'])
df['utc'] = df.transaction_date.dt.tz_localize('UTC')
df['est'] = df.transaction_date.dt.tz_localize('US/Eastern')
df





import pandas as pd

# Sample data with Unix Epoch time
data = {
    'event_id': [1, 2, 3, 4, 5],
    'event_timestamp': [1716115200, 1717228800, 1718342400, 1719456000, 1720569600]  # Unix Epoch time
}

# Creating DataFrame
df = pd.DataFrame(data)

# Display the DataFrame
print("Original DataFrame:")
print(df)

# Task: Convert 'event_timestamp' to datetime and calculate time delta to a specific date (e.g., '2024-06-01')
df['event_time_stamp'] = pd.to_datetime(df['event_timestamp'])
df['del'] = df.event_time_stamp - pd.to_datetime('2024-06-01')
df





import pandas as pd

# Sample data
data = {
    'transaction_id': [101, 102, 103, 104, 105],
    'transaction_date': ['2024-06-01', '2024-06-15', '2024-07-01', '2024-07-15', '2024-08-01'],
    'amount': [100, 200, 150, 300, 250]
}

# Creating DataFrame
df = pd.DataFrame(data)

# Display the DataFrame
print("Original DataFrame:")
print(df)

# Task: Convert 'transaction_date' to datetime and use date offsets to add and subtract time periods
df['transaction_date'] = pd.to_datetime(df['transaction_date'])
df['pl_1m'] = df.transaction_date + pd.Timedelta(4, "W")
df['pl_15d'] = df.transaction_date + pd.Timedelta(15, "d")
df





import pandas as pd
import numpy as np 
# Task: Generate a date range from '2024-06-01' to '2024-06-10' with a daily frequency
date_range = pd.date_range(start='2024-06-01', end='2024-06-10', freq='D')

# Display the generated date range
print("Generated Date Range:")
print(date_range)

# Task: Create a DataFrame using the generated date range and add a column with random data
df = pd.DataFrame()
df['date'] = date_range
df['random_data'] = np.random.randint(1,1000, size=len(df))
df





import pandas as pd

# Sample sales data
data = {
    'sale_id': [1, 2, 3, 4, 5, 6, 7, 8, 9, 10],
    'sale_date': ['2024-06-01', '2024-06-05', '2024-06-10', '2024-06-15', '2024-06-20',
                  '2024-06-25', '2024-07-01', '2024-07-05', '2024-07-10', '2024-07-15'],
    'amount': [100, 150, 200, 250, 300, 350, 400, 450, 500, 550]
}

# Creating DataFrame
df = pd.DataFrame(data)

# Display the DataFrame
print("Original DataFrame:")
print(df)

# Task 1: Convert 'sale_date' to datetime
# Hint: Use pd.to_datetime() to convert the 'sale_date' column to datetime objects
df['sale_date'] = pd.to_datetime(df.sale_date)
# Task 2: Calculate days since first sale
# Hint: Subtract the minimum sale date from each sale date and use .dt.days to get the difference in days
df['days_since'] = df.sale_date - df.sale_date.min()

# Task 3: Filter sales data from the last 30 days
# Hint: Find the maximum date in the dataset and subtract 30 days to get the start date, then filter the DataFrame
filtered = df[df.sale_date < df.sale_date.max() - pd.Timedelta(days=30)]
filtered
# Task 4: Resample data by week and aggregate total sales
# Hint: Use .resample() with 'W-Mon' frequency and aggregate the 'amount' column using .sum()
new = df.set_index(["sale_date"])
new.resample('W-Mon').sum()
new

# Task 5: Generate future dates for the next 4 weeks and simulate future sales
# Hint: Use pd.date_range() to create future dates, then simulate future sales by averaging past weekly sales
d = pd.date_range(start=df.sale_date.min(), end=df.sale_date.max() + pd.Timedelta(weeks=4), freq='D')
d2 = df.reindex(d)
weekly_avg = df['amount'].rolling(7).mean()
d2['filled'] = d2['amount'].fillna(weekly_avg)
d2








import pandas as pd
import numpy as np

# Sample sales data
sales_data = {
    'sale_id': [1, 2, 3, 4, 5, 6, 7, 8, 9, 10],
    'customer_id': [1, 2, 1, 3, 2, 1, 3, 2, 1, 3],
    'sale_date': ['2024-06-01', '2024-06-05', '2024-06-10', '2024-06-15', '2024-06-20',
                  '2024-06-25', '2024-07-01', '2024-07-05', '2024-07-10', '2024-07-15'],
    'product': ['A', 'B', 'A', 'B', 'A', 'B', 'A', 'B', 'A', 'B'],
    'amount': [100, np.nan, 200, 250, 300, np.nan, 400, 450, 500, 550]
}

# Sample customer data
customer_data = {
    'customer_id': [1, 2, 3],
    'customer_name': ['John Doe', 'Jane Smith', 'Bob Johnson']
}

# Creating DataFrames
sales_df = pd.DataFrame(sales_data)
customer_df = pd.DataFrame(customer_data)

# Display the DataFrames
print("Sales DataFrame:")
print(sales_df)
print("\nCustomer DataFrame:")
print(customer_df)

# Task 1: Merge sales_df and customer_df on 'customer_id'
# Hint: Use pd.merge()
df = pd.merge(sales_df, customer_df, on='customer_id')
# Task 2: Convert 'sale_date' to datetime
# Hint: Use pd.to_datetime()
df.sale_date = pd.to_datetime(df.sale_date)
# Task 3: Calculate total sales amount for each customer and each product
# Hint: Use groupby() and sum()
total_sales = df.groupby(['customer_id', 'product']).amount.sum()
# Task 4: Handle missing data in 'amount' using interpolation
# Hint: Use df['amount'].interpolate()
df.amount.interpolate(inplace=True)
# Task 5: Create new features like year, month, and quarter from 'sale_date'
# Hint: Use dt.year, dt.month, dt.quarter
df['year'] = df.sale_date.dt.year
df['month'] = df.sale_date.dt.month
df['qtr'] = df.sale_date.dt.quarter
# Task 6: Split 'customer_name' into 'first_name' and 'last_name'
# Hint: Use str.split()
df[['fname','lname']] = df.customer_name.str.split(expand=True)
# Task 7: Group data by customer and filter customers with total sales above a threshold
# Hint: Use groupby() and filter()
g = df.groupby(['customer_id']).amount.sum()
filtered_cust = g[g > 1000]
# Task 8: Resample data to get weekly sales totals and concatenate with future sales projections
# Hint: Use resample() and pd.concat()
u = df.set_index(['sale_date'])
weekly = u.resample('W').sum()
avg = weekly['amount'].rolling(6).mean()
# Task 9: Provide a summary DataFrame with all calculations and features

